{
 "cells": [
  {
   "cell_type": "code",
   "execution_count": 3,
   "metadata": {},
   "outputs": [],
   "source": [
    "# %load 'twitter_credentials.py'\n",
    "# Variables that contain the user credentials to access Twitter API.\n",
    "ACCESS_TOKEN = \"57414683-gbGLz6KXtloKtbCrxhq12hh2GhzTFNN9ffsLXjESZ\"\n",
    "ACCESS_TOKEN_SECRET = \"qQ5VByRFQ9EIKNKdgdpHjQjj0HlfgokYiX2tkszHN8km0\" \n",
    "CONSUMER_KEY = \"YNGnAY8m6Xuav98ninCu0CIX7\"\n",
    "CONSUMER_SECRET = \"D4sIGEhaAIoKLQLo7Zz0ZQN67ElLz5teJkkmqoWBjK2GyKdN5J\""
   ]
  },
  {
   "cell_type": "code",
   "execution_count": 4,
   "metadata": {},
   "outputs": [],
   "source": [
    "import base64\n",
    "#Define your keys from the developer portal\n",
    "client_key = CONSUMER_KEY\n",
    "client_secret =  CONSUMER_SECRET\n",
    "#Reformat the keys and encode them\n",
    "key_secret = '{}:{}'.format(client_key, client_secret).encode('ascii')\n",
    "\n",
    "# Transform from bytes to bytes that can be printed\n",
    "b64_encoded_key = base64.b64encode(key_secret)\n",
    "\n",
    "#Transform from bytes back into Unicode\n",
    "b64_encoded_key = b64_encoded_key.decode('ascii')"
   ]
  },
  {
   "cell_type": "code",
   "execution_count": 5,
   "metadata": {},
   "outputs": [],
   "source": [
    "import requests\n",
    "base_url = 'https://api.twitter.com/'\n",
    "auth_url = '{}oauth2/token'.format(base_url)\n",
    "auth_headers = {\n",
    "    'Authorization': 'Basic {}'.format(b64_encoded_key),\n",
    "    'Content-Type': 'application/x-www-form-urlencoded;charset=UTF-8'\n",
    "}\n",
    "auth_data = {\n",
    "    'grant_type': 'client_credentials'\n",
    "}\n",
    "auth_resp = requests.post(auth_url, headers=auth_headers, data=auth_data)"
   ]
  },
  {
   "cell_type": "code",
   "execution_count": 6,
   "metadata": {},
   "outputs": [
    {
     "name": "stdout",
     "output_type": "stream",
     "text": [
      "200\n"
     ]
    }
   ],
   "source": [
    "print(auth_resp.status_code)"
   ]
  },
  {
   "cell_type": "code",
   "execution_count": 7,
   "metadata": {},
   "outputs": [],
   "source": [
    "access_token = auth_resp.json()['access_token']"
   ]
  },
  {
   "cell_type": "code",
   "execution_count": 28,
   "metadata": {},
   "outputs": [],
   "source": [
    "# search_headers = {\n",
    "#     'Authorization': 'Bearer {}'.format(access_token)    \n",
    "# }\n",
    "# search_params = {\n",
    "    'q': 'NASA',\n",
    "#     'result_type': 'recent',\n",
    "#     'count': 2\n",
    "# }\n",
    "# search_url = '{}1.1/search/tweets.json'.format(base_url)\n",
    "# search_resp = requests.get(search_url, headers=search_headers, params=search_params)"
   ]
  },
  {
   "cell_type": "code",
   "execution_count": 34,
   "metadata": {},
   "outputs": [
    {
     "name": "stdout",
     "output_type": "stream",
     "text": [
      "[{'created_at': 'Wed May 29 02:26:33 +0000 2019', 'id': 1133560228031717376, 'id_str': '1133560228031717376', 'text': 'In November I was 335-340pounds \\n \\nGot sober lost weight \\n\\nI started keto diet a week and a half ago I was 319 toda… https://t.co/vNBQMK1fsK', 'truncated': True, 'entities': {'hashtags': [], 'symbols': [], 'user_mentions': [], 'urls': [{'url': 'https://t.co/vNBQMK1fsK', 'expanded_url': 'https://twitter.com/i/web/status/1133560228031717376', 'display_url': 'twitter.com/i/web/status/1…', 'indices': [117, 140]}]}, 'metadata': {'result_type': 'popular', 'iso_language_code': 'en'}, 'source': '<a href=\"http://twitter.com/download/iphone\" rel=\"nofollow\">Twitter for iPhone</a>', 'in_reply_to_status_id': None, 'in_reply_to_status_id_str': None, 'in_reply_to_user_id': None, 'in_reply_to_user_id_str': None, 'in_reply_to_screen_name': None, 'user': {'id': 526765568, 'id_str': '526765568', 'name': 'The Real Fat Nick', 'screen_name': '_FatNick', 'location': '', 'description': 'bookings USA + other territories - fredz@paradigmagency.com ; FREE ALL THE OPPS CAUSE SHITS GETTING BORING; Europe / Russia booking im@booking-machine.com', 'url': 'https://t.co/BHUwcc4c2C', 'entities': {'url': {'urls': [{'url': 'https://t.co/BHUwcc4c2C', 'expanded_url': 'http://www.allbut6talent.com/tour', 'display_url': 'allbut6talent.com/tour', 'indices': [0, 23]}]}, 'description': {'urls': []}}, 'protected': False, 'followers_count': 191209, 'friends_count': 863, 'listed_count': 498, 'created_at': 'Fri Mar 16 20:28:34 +0000 2012', 'favourites_count': 62507, 'utc_offset': None, 'time_zone': None, 'geo_enabled': True, 'verified': True, 'statuses_count': 48248, 'lang': 'en', 'contributors_enabled': False, 'is_translator': False, 'is_translation_enabled': False, 'profile_background_color': '000000', 'profile_background_image_url': 'http://abs.twimg.com/images/themes/theme1/bg.png', 'profile_background_image_url_https': 'https://abs.twimg.com/images/themes/theme1/bg.png', 'profile_background_tile': False, 'profile_image_url': 'http://pbs.twimg.com/profile_images/1047727050562330624/rRD0dpVu_normal.jpg', 'profile_image_url_https': 'https://pbs.twimg.com/profile_images/1047727050562330624/rRD0dpVu_normal.jpg', 'profile_banner_url': 'https://pbs.twimg.com/profile_banners/526765568/1544163606', 'profile_link_color': 'F5ABB5', 'profile_sidebar_border_color': '000000', 'profile_sidebar_fill_color': '000000', 'profile_text_color': '000000', 'profile_use_background_image': False, 'has_extended_profile': False, 'default_profile': False, 'default_profile_image': False, 'following': None, 'follow_request_sent': None, 'notifications': None, 'translator_type': 'none'}, 'geo': None, 'coordinates': None, 'place': None, 'contributors': None, 'is_quote_status': False, 'retweet_count': 196, 'favorite_count': 3787, 'favorited': False, 'retweeted': False, 'lang': 'en'}, {'created_at': 'Tue May 28 02:16:36 +0000 2019', 'id': 1133195337781436416, 'id_str': '1133195337781436416', 'text': 'The keto diet was the most-searched diet on Google in 2018. \\n\\nWhy are people so curious? Here’s a quick guide to al… https://t.co/a7CCnVOjOq', 'truncated': True, 'entities': {'hashtags': [], 'symbols': [], 'user_mentions': [], 'urls': [{'url': 'https://t.co/a7CCnVOjOq', 'expanded_url': 'https://twitter.com/i/web/status/1133195337781436416', 'display_url': 'twitter.com/i/web/status/1…', 'indices': [117, 140]}]}, 'metadata': {'result_type': 'popular', 'iso_language_code': 'en'}, 'source': '<a href=\"http://www.socialflow.com\" rel=\"nofollow\">SocialFlow</a>', 'in_reply_to_status_id': None, 'in_reply_to_status_id_str': None, 'in_reply_to_user_id': None, 'in_reply_to_user_id_str': None, 'in_reply_to_screen_name': None, 'user': {'id': 38531995, 'id_str': '38531995', 'name': 'Dr. Mehmet Oz', 'screen_name': 'DrOz', 'location': 'New York, NY', 'description': 'Cardiac Surgeon and Host of The Dr. Oz Show | 🥑 : @thedishonoz | 🏃\\u200d♂️: @sharecareinc', 'url': 'https://t.co/DXIPLV2oKK', 'entities': {'url': {'urls': [{'url': 'https://t.co/DXIPLV2oKK', 'expanded_url': 'https://www.doctoroz.com', 'display_url': 'doctoroz.com', 'indices': [0, 23]}]}, 'description': {'urls': []}}, 'protected': False, 'followers_count': 4107911, 'friends_count': 419, 'listed_count': 20542, 'created_at': 'Thu May 07 22:20:44 +0000 2009', 'favourites_count': 1016, 'utc_offset': None, 'time_zone': None, 'geo_enabled': True, 'verified': True, 'statuses_count': 11890, 'lang': 'en', 'contributors_enabled': False, 'is_translator': False, 'is_translation_enabled': False, 'profile_background_color': '003D7E', 'profile_background_image_url': 'http://abs.twimg.com/images/themes/theme1/bg.png', 'profile_background_image_url_https': 'https://abs.twimg.com/images/themes/theme1/bg.png', 'profile_background_tile': False, 'profile_image_url': 'http://pbs.twimg.com/profile_images/1039972664763449346/fOdwzt4P_normal.jpg', 'profile_image_url_https': 'https://pbs.twimg.com/profile_images/1039972664763449346/fOdwzt4P_normal.jpg', 'profile_banner_url': 'https://pbs.twimg.com/profile_banners/38531995/1536086488', 'profile_link_color': '33B7DD', 'profile_sidebar_border_color': 'FFFFFF', 'profile_sidebar_fill_color': '45ADB3', 'profile_text_color': '080808', 'profile_use_background_image': True, 'has_extended_profile': True, 'default_profile': False, 'default_profile_image': False, 'following': None, 'follow_request_sent': None, 'notifications': None, 'translator_type': 'none'}, 'geo': None, 'coordinates': None, 'place': None, 'contributors': None, 'is_quote_status': False, 'retweet_count': 105, 'favorite_count': 364, 'favorited': False, 'retweeted': False, 'possibly_sensitive': False, 'lang': 'en'}, {'created_at': 'Tue May 28 22:13:59 +0000 2019', 'id': 1133496665267220480, 'id_str': '1133496665267220480', 'text': 'Grilling up a Keto friendly dinner...Filets...Asparagus \\nChicken Wings. \\nJR’s Seasoning is the star. \\n\\n\\u2066… https://t.co/fmP7QZgo5t', 'truncated': True, 'entities': {'hashtags': [], 'symbols': [], 'user_mentions': [], 'urls': [{'url': 'https://t.co/fmP7QZgo5t', 'expanded_url': 'https://twitter.com/i/web/status/1133496665267220480', 'display_url': 'twitter.com/i/web/status/1…', 'indices': [106, 129]}]}, 'metadata': {'result_type': 'popular', 'iso_language_code': 'en'}, 'source': '<a href=\"http://twitter.com/download/iphone\" rel=\"nofollow\">Twitter for iPhone</a>', 'in_reply_to_status_id': None, 'in_reply_to_status_id_str': None, 'in_reply_to_user_id': None, 'in_reply_to_user_id_str': None, 'in_reply_to_screen_name': None, 'user': {'id': 89556802, 'id_str': '89556802', 'name': 'Jim Ross', 'screen_name': 'JRsBBQ', 'location': 'Oklahoma', 'description': \"WWE, NWA, & National Wrestling Halls of Fame, NYT Best Selling Author, Entrepreneur, Podcaster, Broadcaster, OU Sooners, BBQ Guru, order JR'S at https://t.co/rOLl2q5AGm\", 'url': 'https://t.co/vaAb9Ft7YA', 'entities': {'url': {'urls': [{'url': 'https://t.co/vaAb9Ft7YA', 'expanded_url': 'http://www.jrsbarbq.com', 'display_url': 'jrsbarbq.com', 'indices': [0, 23]}]}, 'description': {'urls': [{'url': 'https://t.co/rOLl2q5AGm', 'expanded_url': 'http://WWEShop.com', 'display_url': 'WWEShop.com', 'indices': [145, 168]}]}}, 'protected': False, 'followers_count': 1695275, 'friends_count': 1246, 'listed_count': 7258, 'created_at': 'Thu Nov 12 22:21:12 +0000 2009', 'favourites_count': 12296, 'utc_offset': None, 'time_zone': None, 'geo_enabled': True, 'verified': True, 'statuses_count': 114647, 'lang': 'en', 'contributors_enabled': False, 'is_translator': False, 'is_translation_enabled': False, 'profile_background_color': 'C0DEED', 'profile_background_image_url': 'http://abs.twimg.com/images/themes/theme1/bg.png', 'profile_background_image_url_https': 'https://abs.twimg.com/images/themes/theme1/bg.png', 'profile_background_tile': False, 'profile_image_url': 'http://pbs.twimg.com/profile_images/604506667405840384/WUfe7NAa_normal.png', 'profile_image_url_https': 'https://pbs.twimg.com/profile_images/604506667405840384/WUfe7NAa_normal.png', 'profile_banner_url': 'https://pbs.twimg.com/profile_banners/89556802/1432960997', 'profile_link_color': '000000', 'profile_sidebar_border_color': 'C70000', 'profile_sidebar_fill_color': 'F5A4A4', 'profile_text_color': '000000', 'profile_use_background_image': True, 'has_extended_profile': False, 'default_profile': False, 'default_profile_image': False, 'following': None, 'follow_request_sent': None, 'notifications': None, 'translator_type': 'none'}, 'geo': None, 'coordinates': None, 'place': None, 'contributors': None, 'is_quote_status': False, 'retweet_count': 43, 'favorite_count': 1093, 'favorited': False, 'retweeted': False, 'possibly_sensitive': False, 'lang': 'en'}, {'created_at': 'Wed May 29 03:10:55 +0000 2019', 'id': 1133571394313302016, 'id_str': '1133571394313302016', 'text': '\"Lazy Keto\" only has one rule you need to follow: https://t.co/GRFZaLJ6CB', 'truncated': False, 'entities': {'hashtags': [], 'symbols': [], 'user_mentions': [], 'urls': [{'url': 'https://t.co/GRFZaLJ6CB', 'expanded_url': 'http://instyle.io/gXM7BK1', 'display_url': 'instyle.io/gXM7BK1', 'indices': [50, 73]}]}, 'metadata': {'result_type': 'popular', 'iso_language_code': 'en'}, 'source': '<a href=\"http://www.socialflow.com\" rel=\"nofollow\">SocialFlow</a>', 'in_reply_to_status_id': None, 'in_reply_to_status_id_str': None, 'in_reply_to_user_id': None, 'in_reply_to_user_id_str': None, 'in_reply_to_screen_name': None, 'user': {'id': 14934818, 'id_str': '14934818', 'name': 'InStyle', 'screen_name': 'InStyle', 'location': 'New York, NY', 'description': \"Everybody's in!\", 'url': 'https://t.co/4hOf06d9sN', 'entities': {'url': {'urls': [{'url': 'https://t.co/4hOf06d9sN', 'expanded_url': 'http://www.instyle.com', 'display_url': 'instyle.com', 'indices': [0, 23]}]}, 'description': {'urls': []}}, 'protected': False, 'followers_count': 4416463, 'friends_count': 2472, 'listed_count': 20615, 'created_at': 'Wed May 28 15:55:24 +0000 2008', 'favourites_count': 3229, 'utc_offset': None, 'time_zone': None, 'geo_enabled': False, 'verified': True, 'statuses_count': 210404, 'lang': 'en', 'contributors_enabled': False, 'is_translator': False, 'is_translation_enabled': False, 'profile_background_color': 'BF1C23', 'profile_background_image_url': 'http://abs.twimg.com/images/themes/theme1/bg.png', 'profile_background_image_url_https': 'https://abs.twimg.com/images/themes/theme1/bg.png', 'profile_background_tile': False, 'profile_image_url': 'http://pbs.twimg.com/profile_images/903270311239589888/PNGNxZDa_normal.jpg', 'profile_image_url_https': 'https://pbs.twimg.com/profile_images/903270311239589888/PNGNxZDa_normal.jpg', 'profile_banner_url': 'https://pbs.twimg.com/profile_banners/14934818/1556798456', 'profile_link_color': 'B00E0E', 'profile_sidebar_border_color': 'FFFFFF', 'profile_sidebar_fill_color': 'E0E0E0', 'profile_text_color': '080000', 'profile_use_background_image': True, 'has_extended_profile': False, 'default_profile': False, 'default_profile_image': False, 'following': None, 'follow_request_sent': None, 'notifications': None, 'translator_type': 'none'}, 'geo': None, 'coordinates': None, 'place': None, 'contributors': None, 'is_quote_status': False, 'retweet_count': 6, 'favorite_count': 15, 'favorited': False, 'retweeted': False, 'possibly_sensitive': False, 'lang': 'en'}, {'created_at': 'Thu May 23 16:15:00 +0000 2019', 'id': 1131594387388030977, 'id_str': '1131594387388030977', 'text': 'Rule of thumb: The more you have to pay for “wellness” the less likely it is to make you well.\\n\\nExpensive:\\n-Hyperba… https://t.co/giHq2Ok4Db', 'truncated': True, 'entities': {'hashtags': [], 'symbols': [], 'user_mentions': [], 'urls': [{'url': 'https://t.co/giHq2Ok4Db', 'expanded_url': 'https://twitter.com/i/web/status/1131594387388030977', 'display_url': 'twitter.com/i/web/status/1…', 'indices': [117, 140]}]}, 'metadata': {'result_type': 'popular', 'iso_language_code': 'en'}, 'source': '<a href=\"https://buffer.com\" rel=\"nofollow\">Buffer</a>', 'in_reply_to_status_id': None, 'in_reply_to_status_id_str': None, 'in_reply_to_user_id': None, 'in_reply_to_user_id_str': None, 'in_reply_to_screen_name': None, 'user': {'id': 363264237, 'id_str': '363264237', 'name': 'Brad Stulberg', 'screen_name': 'BStulberg', 'location': 'Oakland, CA', 'description': 'Write: author of new book THE PASSION PARADOX (https://t.co/uhEbJ40umr), best selling PEAK PERFORMANCE, and essays. Coach to executives and entrepreneurs too.', 'url': 'https://t.co/sCOzhDLEkQ', 'entities': {'url': {'urls': [{'url': 'https://t.co/sCOzhDLEkQ', 'expanded_url': 'http://www.bradstulberg.com/', 'display_url': 'bradstulberg.com', 'indices': [0, 23]}]}, 'description': {'urls': [{'url': 'https://t.co/uhEbJ40umr', 'expanded_url': 'http://ow.ly/2NZr307eNOZ', 'display_url': 'ow.ly/2NZr307eNOZ', 'indices': [47, 70]}]}}, 'protected': False, 'followers_count': 27879, 'friends_count': 243, 'listed_count': 443, 'created_at': 'Sat Aug 27 20:15:02 +0000 2011', 'favourites_count': 26096, 'utc_offset': None, 'time_zone': None, 'geo_enabled': False, 'verified': True, 'statuses_count': 12596, 'lang': 'en', 'contributors_enabled': False, 'is_translator': False, 'is_translation_enabled': False, 'profile_background_color': '7BC3FA', 'profile_background_image_url': 'http://abs.twimg.com/images/themes/theme15/bg.png', 'profile_background_image_url_https': 'https://abs.twimg.com/images/themes/theme15/bg.png', 'profile_background_tile': True, 'profile_image_url': 'http://pbs.twimg.com/profile_images/1100194110143488000/kMVwDBW0_normal.png', 'profile_image_url_https': 'https://pbs.twimg.com/profile_images/1100194110143488000/kMVwDBW0_normal.png', 'profile_banner_url': 'https://pbs.twimg.com/profile_banners/363264237/1551473045', 'profile_link_color': '3B94D9', 'profile_sidebar_border_color': 'FFFFFF', 'profile_sidebar_fill_color': 'DDEEF6', 'profile_text_color': '333333', 'profile_use_background_image': False, 'has_extended_profile': True, 'default_profile': False, 'default_profile_image': False, 'following': None, 'follow_request_sent': None, 'notifications': None, 'translator_type': 'none'}, 'geo': None, 'coordinates': None, 'place': None, 'contributors': None, 'is_quote_status': False, 'retweet_count': 298, 'favorite_count': 1228, 'favorited': False, 'retweeted': False, 'lang': 'en'}, {'created_at': 'Wed May 29 04:00:26 +0000 2019', 'id': 1133583853405253632, 'id_str': '1133583853405253632', 'text': 'Rasanya kayak masuk dunia lemak.https://t.co/WpthhQOIej', 'truncated': False, 'entities': {'hashtags': [], 'symbols': [], 'user_mentions': [], 'urls': [{'url': 'https://t.co/WpthhQOIej', 'expanded_url': 'https://www.vice.com/id_id/article/7x7jk9/setelah-seminggu-menerapkan-diet-keto-begini-dampaknya-ke-tubuhku?utm_source=viceidtw', 'display_url': 'vice.com/id_id/article/…', 'indices': [32, 55]}]}, 'metadata': {'iso_language_code': 'in', 'result_type': 'popular'}, 'source': '<a href=\"https://www.hootsuite.com\" rel=\"nofollow\">Hootsuite Inc.</a>', 'in_reply_to_status_id': None, 'in_reply_to_status_id_str': None, 'in_reply_to_user_id': None, 'in_reply_to_user_id_str': None, 'in_reply_to_screen_name': None, 'user': {'id': 765149955396734976, 'id_str': '765149955396734976', 'name': 'VICE Indonesia', 'screen_name': 'VICE_ID', 'location': 'Indonesia', 'description': 'Indonesia, welcome to VICE.', 'url': 'https://t.co/AhZRzjLghE', 'entities': {'url': {'urls': [{'url': 'https://t.co/AhZRzjLghE', 'expanded_url': 'http://www.vice.com', 'display_url': 'vice.com', 'indices': [0, 23]}]}, 'description': {'urls': []}}, 'protected': False, 'followers_count': 84487, 'friends_count': 9, 'listed_count': 154, 'created_at': 'Mon Aug 15 11:35:40 +0000 2016', 'favourites_count': 1, 'utc_offset': None, 'time_zone': None, 'geo_enabled': False, 'verified': True, 'statuses_count': 13330, 'lang': 'en', 'contributors_enabled': False, 'is_translator': False, 'is_translation_enabled': False, 'profile_background_color': 'F5F8FA', 'profile_background_image_url': None, 'profile_background_image_url_https': None, 'profile_background_tile': False, 'profile_image_url': 'http://pbs.twimg.com/profile_images/796244552549961729/lAAzbkX9_normal.jpg', 'profile_image_url_https': 'https://pbs.twimg.com/profile_images/796244552549961729/lAAzbkX9_normal.jpg', 'profile_banner_url': 'https://pbs.twimg.com/profile_banners/765149955396734976/1478506307', 'profile_link_color': '1DA1F2', 'profile_sidebar_border_color': 'C0DEED', 'profile_sidebar_fill_color': 'DDEEF6', 'profile_text_color': '333333', 'profile_use_background_image': True, 'has_extended_profile': False, 'default_profile': True, 'default_profile_image': False, 'following': None, 'follow_request_sent': None, 'notifications': None, 'translator_type': 'none'}, 'geo': None, 'coordinates': None, 'place': None, 'contributors': None, 'is_quote_status': False, 'retweet_count': 5, 'favorite_count': 9, 'favorited': False, 'retweeted': False, 'possibly_sensitive': False, 'lang': 'in'}, {'created_at': 'Sat May 25 14:00:18 +0000 2019', 'id': 1132285264087474176, 'id_str': '1132285264087474176', 'text': \"Do you know Keto's story? He is one of seven orcas currently held captive at Loro Parque. Find out his story and he… https://t.co/LaoT6tgesK\", 'truncated': True, 'entities': {'hashtags': [], 'symbols': [], 'user_mentions': [], 'urls': [{'url': 'https://t.co/LaoT6tgesK', 'expanded_url': 'https://twitter.com/i/web/status/1132285264087474176', 'display_url': 'twitter.com/i/web/status/1…', 'indices': [117, 140]}]}, 'metadata': {'result_type': 'popular', 'iso_language_code': 'en'}, 'source': '<a href=\"https://www.later.com\" rel=\"nofollow\">LaterMedia</a>', 'in_reply_to_status_id': None, 'in_reply_to_status_id_str': None, 'in_reply_to_user_id': None, 'in_reply_to_user_id_str': None, 'in_reply_to_screen_name': None, 'user': {'id': 378746121, 'id_str': '378746121', 'name': 'Dolphin Project', 'screen_name': 'Dolphin_Project', 'location': 'Take Action ➡️', 'description': 'Dedicated to the Welfare & Protection of Dolphins Worldwide Since Earth Day 1970. 🐬 As seen in the Academy Award® Winning Documentary, THE COVE 🐬', 'url': 'https://t.co/S7FJeOCnY1', 'entities': {'url': {'urls': [{'url': 'https://t.co/S7FJeOCnY1', 'expanded_url': 'http://www.DolphinProject.com', 'display_url': 'DolphinProject.com', 'indices': [0, 23]}]}, 'description': {'urls': []}}, 'protected': False, 'followers_count': 84605, 'friends_count': 87, 'listed_count': 859, 'created_at': 'Fri Sep 23 18:54:16 +0000 2011', 'favourites_count': 11461, 'utc_offset': None, 'time_zone': None, 'geo_enabled': True, 'verified': True, 'statuses_count': 9894, 'lang': 'en', 'contributors_enabled': False, 'is_translator': False, 'is_translation_enabled': False, 'profile_background_color': 'C0DEED', 'profile_background_image_url': 'http://abs.twimg.com/images/themes/theme1/bg.png', 'profile_background_image_url_https': 'https://abs.twimg.com/images/themes/theme1/bg.png', 'profile_background_tile': True, 'profile_image_url': 'http://pbs.twimg.com/profile_images/695636571366686720/2EBEENiC_normal.jpg', 'profile_image_url_https': 'https://pbs.twimg.com/profile_images/695636571366686720/2EBEENiC_normal.jpg', 'profile_banner_url': 'https://pbs.twimg.com/profile_banners/378746121/1543408448', 'profile_link_color': '0084B4', 'profile_sidebar_border_color': 'FFFFFF', 'profile_sidebar_fill_color': 'DDEEF6', 'profile_text_color': '333333', 'profile_use_background_image': True, 'has_extended_profile': True, 'default_profile': False, 'default_profile_image': False, 'following': None, 'follow_request_sent': None, 'notifications': None, 'translator_type': 'none'}, 'geo': None, 'coordinates': None, 'place': None, 'contributors': None, 'is_quote_status': False, 'retweet_count': 86, 'favorite_count': 72, 'favorited': False, 'retweeted': False, 'possibly_sensitive': False, 'lang': 'en'}, {'created_at': 'Fri May 24 19:00:57 +0000 2019', 'id': 1131998538328694786, 'id_str': '1131998538328694786', 'text': '#Follow @CHOCZERO &amp; @passion_planner and #RT to enter our #giveaway!\\n\\nTreat yourself out to some low carb, keto-fri… https://t.co/QbubEaG6Ux', 'truncated': True, 'entities': {'hashtags': [{'text': 'Follow', 'indices': [0, 7]}, {'text': 'RT', 'indices': [45, 48]}, {'text': 'giveaway', 'indices': [62, 71]}], 'symbols': [], 'user_mentions': [{'screen_name': 'CHOCZERO', 'name': 'ChocZero', 'id': 759999435560460288, 'id_str': '759999435560460288', 'indices': [8, 17]}, {'screen_name': 'passion_planner', 'name': 'Passion Planner', 'id': 2272500420, 'id_str': '2272500420', 'indices': [24, 40]}], 'urls': [{'url': 'https://t.co/QbubEaG6Ux', 'expanded_url': 'https://twitter.com/i/web/status/1131998538328694786', 'display_url': 'twitter.com/i/web/status/1…', 'indices': [121, 144]}]}, 'metadata': {'result_type': 'popular', 'iso_language_code': 'en'}, 'source': '<a href=\"https://www.later.com\" rel=\"nofollow\">LaterMedia</a>', 'in_reply_to_status_id': None, 'in_reply_to_status_id_str': None, 'in_reply_to_user_id': None, 'in_reply_to_user_id_str': None, 'in_reply_to_screen_name': None, 'user': {'id': 2272500420, 'id_str': '2272500420', 'name': 'Passion Planner', 'screen_name': 'passion_planner', 'location': 'San Diego, CA', 'description': 'Your paper life coach™. 📓✏️', 'url': 'https://t.co/S4YbYJCtEG', 'entities': {'url': {'urls': [{'url': 'https://t.co/S4YbYJCtEG', 'expanded_url': 'http://passionplanner.com', 'display_url': 'passionplanner.com', 'indices': [0, 23]}]}, 'description': {'urls': []}}, 'protected': False, 'followers_count': 27672, 'friends_count': 381, 'listed_count': 229, 'created_at': 'Thu Jan 02 04:55:31 +0000 2014', 'favourites_count': 14697, 'utc_offset': None, 'time_zone': None, 'geo_enabled': True, 'verified': True, 'statuses_count': 10115, 'lang': 'en', 'contributors_enabled': False, 'is_translator': False, 'is_translation_enabled': False, 'profile_background_color': '000000', 'profile_background_image_url': 'http://abs.twimg.com/images/themes/theme1/bg.png', 'profile_background_image_url_https': 'https://abs.twimg.com/images/themes/theme1/bg.png', 'profile_background_tile': False, 'profile_image_url': 'http://pbs.twimg.com/profile_images/1080517000974069761/NtOp_I_A_normal.jpg', 'profile_image_url_https': 'https://pbs.twimg.com/profile_images/1080517000974069761/NtOp_I_A_normal.jpg', 'profile_banner_url': 'https://pbs.twimg.com/profile_banners/2272500420/1558378493', 'profile_link_color': 'F58EA8', 'profile_sidebar_border_color': '000000', 'profile_sidebar_fill_color': '000000', 'profile_text_color': '000000', 'profile_use_background_image': False, 'has_extended_profile': False, 'default_profile': False, 'default_profile_image': False, 'following': None, 'follow_request_sent': None, 'notifications': None, 'translator_type': 'none'}, 'geo': None, 'coordinates': None, 'place': None, 'contributors': None, 'is_quote_status': False, 'retweet_count': 104, 'favorite_count': 73, 'favorited': False, 'retweeted': False, 'possibly_sensitive': False, 'lang': 'en'}, {'created_at': 'Thu May 23 12:39:09 +0000 2019', 'id': 1131540065757409280, 'id_str': '1131540065757409280', 'text': \"Any study on the keto diet that shows it's not magic &amp; can't raise the dead... \\nKeto people: It wasn't long enough,… https://t.co/KD0Da6JX0j\", 'truncated': True, 'entities': {'hashtags': [], 'symbols': [], 'user_mentions': [], 'urls': [{'url': 'https://t.co/KD0Da6JX0j', 'expanded_url': 'https://twitter.com/i/web/status/1131540065757409280', 'display_url': 'twitter.com/i/web/status/1…', 'indices': [121, 144]}]}, 'metadata': {'result_type': 'popular', 'iso_language_code': 'en'}, 'source': '<a href=\"http://twitter.com\" rel=\"nofollow\">Twitter Web Client</a>', 'in_reply_to_status_id': None, 'in_reply_to_status_id_str': None, 'in_reply_to_user_id': None, 'in_reply_to_user_id_str': None, 'in_reply_to_screen_name': None, 'user': {'id': 26816594, 'id_str': '26816594', 'name': 'Layne Norton, PhD', 'screen_name': 'BioLayne', 'location': 'Tampa, FL', 'description': 'Dad. Owner of BioLayne LLC, Natural Pro BBer. Nutritional Science PhD, 2x USAPL 93kg Nat. Champ. Crusher of bullshit', 'url': 'https://t.co/EoWL1kPRwv', 'entities': {'url': {'urls': [{'url': 'https://t.co/EoWL1kPRwv', 'expanded_url': 'https://biolaynestore.com/collections/accessories', 'display_url': 'biolaynestore.com/collections/ac…', 'indices': [0, 23]}]}, 'description': {'urls': []}}, 'protected': False, 'followers_count': 91500, 'friends_count': 408, 'listed_count': 922, 'created_at': 'Thu Mar 26 18:46:59 +0000 2009', 'favourites_count': 13697, 'utc_offset': None, 'time_zone': None, 'geo_enabled': True, 'verified': True, 'statuses_count': 50844, 'lang': 'en', 'contributors_enabled': False, 'is_translator': False, 'is_translation_enabled': False, 'profile_background_color': '9AE4E8', 'profile_background_image_url': 'http://abs.twimg.com/images/themes/theme1/bg.png', 'profile_background_image_url_https': 'https://abs.twimg.com/images/themes/theme1/bg.png', 'profile_background_tile': False, 'profile_image_url': 'http://pbs.twimg.com/profile_images/971100755171176448/XtERnLbZ_normal.jpg', 'profile_image_url_https': 'https://pbs.twimg.com/profile_images/971100755171176448/XtERnLbZ_normal.jpg', 'profile_banner_url': 'https://pbs.twimg.com/profile_banners/26816594/1520363450', 'profile_link_color': '000DB4', 'profile_sidebar_border_color': 'BDDCAD', 'profile_sidebar_fill_color': 'DDFFCC', 'profile_text_color': '333333', 'profile_use_background_image': True, 'has_extended_profile': False, 'default_profile': False, 'default_profile_image': False, 'following': None, 'follow_request_sent': None, 'notifications': None, 'translator_type': 'none'}, 'geo': None, 'coordinates': None, 'place': None, 'contributors': None, 'is_quote_status': False, 'retweet_count': 37, 'favorite_count': 218, 'favorited': False, 'retweeted': False, 'lang': 'en'}, {'created_at': 'Thu May 23 15:23:21 +0000 2019', 'id': 1131581386849173505, 'id_str': '1131581386849173505', 'text': 'Keto zealots: The study didn’t have enough participants!!\\n.\\nAlso keto zealots: I know it’s the best for everyone be… https://t.co/Lj9vDO8zrG', 'truncated': True, 'entities': {'hashtags': [], 'symbols': [], 'user_mentions': [], 'urls': [{'url': 'https://t.co/Lj9vDO8zrG', 'expanded_url': 'https://twitter.com/i/web/status/1131581386849173505', 'display_url': 'twitter.com/i/web/status/1…', 'indices': [117, 140]}]}, 'metadata': {'result_type': 'popular', 'iso_language_code': 'en'}, 'source': '<a href=\"http://twitter.com/download/iphone\" rel=\"nofollow\">Twitter for iPhone</a>', 'in_reply_to_status_id': None, 'in_reply_to_status_id_str': None, 'in_reply_to_user_id': None, 'in_reply_to_user_id_str': None, 'in_reply_to_screen_name': None, 'user': {'id': 26816594, 'id_str': '26816594', 'name': 'Layne Norton, PhD', 'screen_name': 'BioLayne', 'location': 'Tampa, FL', 'description': 'Dad. Owner of BioLayne LLC, Natural Pro BBer. Nutritional Science PhD, 2x USAPL 93kg Nat. Champ. Crusher of bullshit', 'url': 'https://t.co/EoWL1kPRwv', 'entities': {'url': {'urls': [{'url': 'https://t.co/EoWL1kPRwv', 'expanded_url': 'https://biolaynestore.com/collections/accessories', 'display_url': 'biolaynestore.com/collections/ac…', 'indices': [0, 23]}]}, 'description': {'urls': []}}, 'protected': False, 'followers_count': 91500, 'friends_count': 408, 'listed_count': 922, 'created_at': 'Thu Mar 26 18:46:59 +0000 2009', 'favourites_count': 13697, 'utc_offset': None, 'time_zone': None, 'geo_enabled': True, 'verified': True, 'statuses_count': 50844, 'lang': 'en', 'contributors_enabled': False, 'is_translator': False, 'is_translation_enabled': False, 'profile_background_color': '9AE4E8', 'profile_background_image_url': 'http://abs.twimg.com/images/themes/theme1/bg.png', 'profile_background_image_url_https': 'https://abs.twimg.com/images/themes/theme1/bg.png', 'profile_background_tile': False, 'profile_image_url': 'http://pbs.twimg.com/profile_images/971100755171176448/XtERnLbZ_normal.jpg', 'profile_image_url_https': 'https://pbs.twimg.com/profile_images/971100755171176448/XtERnLbZ_normal.jpg', 'profile_banner_url': 'https://pbs.twimg.com/profile_banners/26816594/1520363450', 'profile_link_color': '000DB4', 'profile_sidebar_border_color': 'BDDCAD', 'profile_sidebar_fill_color': 'DDFFCC', 'profile_text_color': '333333', 'profile_use_background_image': True, 'has_extended_profile': False, 'default_profile': False, 'default_profile_image': False, 'following': None, 'follow_request_sent': None, 'notifications': None, 'translator_type': 'none'}, 'geo': None, 'coordinates': None, 'place': {'id': '36f6e625182fae8b', 'url': 'https://api.twitter.com/1.1/geo/id/36f6e625182fae8b.json', 'place_type': 'city', 'name': \"Land O' Lakes\", 'full_name': \"Land O' Lakes, FL\", 'country_code': 'US', 'country': 'United States', 'contained_within': [], 'bounding_box': {'type': 'Polygon', 'coordinates': [[[-82.524994, 28.171069], [-82.369327, 28.171069], [-82.369327, 28.267173], [-82.524994, 28.267173]]]}, 'attributes': {}}, 'contributors': None, 'is_quote_status': False, 'retweet_count': 41, 'favorite_count': 278, 'favorited': False, 'retweeted': False, 'lang': 'en'}, {'created_at': 'Sun May 26 00:30:11 +0000 2019', 'id': 1132443780114780161, 'id_str': '1132443780114780161', 'text': 'Use this list to make grocery shopping while on #keto easier. https://t.co/YumUTDnBPW', 'truncated': False, 'entities': {'hashtags': [{'text': 'keto', 'indices': [48, 53]}], 'symbols': [], 'user_mentions': [], 'urls': [], 'media': [{'id': 1132443777392619520, 'id_str': '1132443777392619520', 'indices': [62, 85], 'media_url': 'http://pbs.twimg.com/media/D7c_nZeWsAAXaqY.jpg', 'media_url_https': 'https://pbs.twimg.com/media/D7c_nZeWsAAXaqY.jpg', 'url': 'https://t.co/YumUTDnBPW', 'display_url': 'pic.twitter.com/YumUTDnBPW', 'expanded_url': 'https://twitter.com/DrOz/status/1132443780114780161/photo/1', 'type': 'photo', 'sizes': {'thumb': {'w': 150, 'h': 150, 'resize': 'crop'}, 'small': {'w': 680, 'h': 370, 'resize': 'fit'}, 'medium': {'w': 1200, 'h': 653, 'resize': 'fit'}, 'large': {'w': 2048, 'h': 1114, 'resize': 'fit'}}}]}, 'extended_entities': {'media': [{'id': 1132443777392619520, 'id_str': '1132443777392619520', 'indices': [62, 85], 'media_url': 'http://pbs.twimg.com/media/D7c_nZeWsAAXaqY.jpg', 'media_url_https': 'https://pbs.twimg.com/media/D7c_nZeWsAAXaqY.jpg', 'url': 'https://t.co/YumUTDnBPW', 'display_url': 'pic.twitter.com/YumUTDnBPW', 'expanded_url': 'https://twitter.com/DrOz/status/1132443780114780161/photo/1', 'type': 'photo', 'sizes': {'thumb': {'w': 150, 'h': 150, 'resize': 'crop'}, 'small': {'w': 680, 'h': 370, 'resize': 'fit'}, 'medium': {'w': 1200, 'h': 653, 'resize': 'fit'}, 'large': {'w': 2048, 'h': 1114, 'resize': 'fit'}}}]}, 'metadata': {'result_type': 'popular', 'iso_language_code': 'en'}, 'source': '<a href=\"http://www.socialflow.com\" rel=\"nofollow\">SocialFlow</a>', 'in_reply_to_status_id': None, 'in_reply_to_status_id_str': None, 'in_reply_to_user_id': None, 'in_reply_to_user_id_str': None, 'in_reply_to_screen_name': None, 'user': {'id': 38531995, 'id_str': '38531995', 'name': 'Dr. Mehmet Oz', 'screen_name': 'DrOz', 'location': 'New York, NY', 'description': 'Cardiac Surgeon and Host of The Dr. Oz Show | 🥑 : @thedishonoz | 🏃\\u200d♂️: @sharecareinc', 'url': 'https://t.co/DXIPLV2oKK', 'entities': {'url': {'urls': [{'url': 'https://t.co/DXIPLV2oKK', 'expanded_url': 'https://www.doctoroz.com', 'display_url': 'doctoroz.com', 'indices': [0, 23]}]}, 'description': {'urls': []}}, 'protected': False, 'followers_count': 4107911, 'friends_count': 419, 'listed_count': 20542, 'created_at': 'Thu May 07 22:20:44 +0000 2009', 'favourites_count': 1016, 'utc_offset': None, 'time_zone': None, 'geo_enabled': True, 'verified': True, 'statuses_count': 11890, 'lang': 'en', 'contributors_enabled': False, 'is_translator': False, 'is_translation_enabled': False, 'profile_background_color': '003D7E', 'profile_background_image_url': 'http://abs.twimg.com/images/themes/theme1/bg.png', 'profile_background_image_url_https': 'https://abs.twimg.com/images/themes/theme1/bg.png', 'profile_background_tile': False, 'profile_image_url': 'http://pbs.twimg.com/profile_images/1039972664763449346/fOdwzt4P_normal.jpg', 'profile_image_url_https': 'https://pbs.twimg.com/profile_images/1039972664763449346/fOdwzt4P_normal.jpg', 'profile_banner_url': 'https://pbs.twimg.com/profile_banners/38531995/1536086488', 'profile_link_color': '33B7DD', 'profile_sidebar_border_color': 'FFFFFF', 'profile_sidebar_fill_color': '45ADB3', 'profile_text_color': '080808', 'profile_use_background_image': True, 'has_extended_profile': True, 'default_profile': False, 'default_profile_image': False, 'following': None, 'follow_request_sent': None, 'notifications': None, 'translator_type': 'none'}, 'geo': None, 'coordinates': None, 'place': None, 'contributors': None, 'is_quote_status': False, 'retweet_count': 57, 'favorite_count': 194, 'favorited': False, 'retweeted': False, 'possibly_sensitive': False, 'lang': 'en'}, {'created_at': 'Mon May 20 20:39:02 +0000 2019', 'id': 1130573667992244224, 'id_str': '1130573667992244224', 'text': 'Ketogenic diet: Is the ultimate low-carb diet good for you? https://t.co/lEnkzEvAlX #HarvardHealth #nutrition #keto https://t.co/4A4pvdsMw3', 'truncated': False, 'entities': {'hashtags': [{'text': 'HarvardHealth', 'indices': [84, 98]}, {'text': 'nutrition', 'indices': [99, 109]}, {'text': 'keto', 'indices': [110, 115]}], 'symbols': [], 'user_mentions': [], 'urls': [{'url': 'https://t.co/lEnkzEvAlX', 'expanded_url': 'http://bit.ly/2WaFy4C', 'display_url': 'bit.ly/2WaFy4C', 'indices': [60, 83]}], 'media': [{'id': 1130573665874194432, 'id_str': '1130573665874194432', 'indices': [116, 139], 'media_url': 'http://pbs.twimg.com/media/D7CawlLXsAANV3N.jpg', 'media_url_https': 'https://pbs.twimg.com/media/D7CawlLXsAANV3N.jpg', 'url': 'https://t.co/4A4pvdsMw3', 'display_url': 'pic.twitter.com/4A4pvdsMw3', 'expanded_url': 'https://twitter.com/HarvardHealth/status/1130573667992244224/photo/1', 'type': 'photo', 'sizes': {'thumb': {'w': 150, 'h': 150, 'resize': 'crop'}, 'small': {'w': 619, 'h': 680, 'resize': 'fit'}, 'medium': {'w': 1092, 'h': 1200, 'resize': 'fit'}, 'large': {'w': 1652, 'h': 1815, 'resize': 'fit'}}}]}, 'extended_entities': {'media': [{'id': 1130573665874194432, 'id_str': '1130573665874194432', 'indices': [116, 139], 'media_url': 'http://pbs.twimg.com/media/D7CawlLXsAANV3N.jpg', 'media_url_https': 'https://pbs.twimg.com/media/D7CawlLXsAANV3N.jpg', 'url': 'https://t.co/4A4pvdsMw3', 'display_url': 'pic.twitter.com/4A4pvdsMw3', 'expanded_url': 'https://twitter.com/HarvardHealth/status/1130573667992244224/photo/1', 'type': 'photo', 'sizes': {'thumb': {'w': 150, 'h': 150, 'resize': 'crop'}, 'small': {'w': 619, 'h': 680, 'resize': 'fit'}, 'medium': {'w': 1092, 'h': 1200, 'resize': 'fit'}, 'large': {'w': 1652, 'h': 1815, 'resize': 'fit'}}}]}, 'metadata': {'result_type': 'popular', 'iso_language_code': 'en'}, 'source': '<a href=\"https://buffer.com\" rel=\"nofollow\">Buffer</a>', 'in_reply_to_status_id': None, 'in_reply_to_status_id_str': None, 'in_reply_to_user_id': None, 'in_reply_to_user_id_str': None, 'in_reply_to_screen_name': None, 'user': {'id': 22708797, 'id_str': '22708797', 'name': 'Harvard Health', 'screen_name': 'HarvardHealth', 'location': 'Boston, MA', 'description': 'Knowledge is the best medicine. Providing you with trustworthy health information from the halls of @Harvardmed and world-famous affiliated hospitals.', 'url': 'http://t.co/bKrCARUjg1', 'entities': {'url': {'urls': [{'url': 'http://t.co/bKrCARUjg1', 'expanded_url': 'http://www.health.harvard.edu/', 'display_url': 'health.harvard.edu', 'indices': [0, 22]}]}, 'description': {'urls': []}}, 'protected': False, 'followers_count': 2375001, 'friends_count': 857, 'listed_count': 11108, 'created_at': 'Wed Mar 04 00:49:26 +0000 2009', 'favourites_count': 700, 'utc_offset': None, 'time_zone': None, 'geo_enabled': False, 'verified': True, 'statuses_count': 7708, 'lang': 'en', 'contributors_enabled': False, 'is_translator': False, 'is_translation_enabled': False, 'profile_background_color': 'FFFFFF', 'profile_background_image_url': 'http://abs.twimg.com/images/themes/theme1/bg.png', 'profile_background_image_url_https': 'https://abs.twimg.com/images/themes/theme1/bg.png', 'profile_background_tile': False, 'profile_image_url': 'http://pbs.twimg.com/profile_images/897872949998387200/aLAkB7yk_normal.jpg', 'profile_image_url_https': 'https://pbs.twimg.com/profile_images/897872949998387200/aLAkB7yk_normal.jpg', 'profile_banner_url': 'https://pbs.twimg.com/profile_banners/22708797/1552681699', 'profile_link_color': '960312', 'profile_sidebar_border_color': 'FFFFFF', 'profile_sidebar_fill_color': 'FFFFFF', 'profile_text_color': '333333', 'profile_use_background_image': True, 'has_extended_profile': False, 'default_profile': False, 'default_profile_image': False, 'following': None, 'follow_request_sent': None, 'notifications': None, 'translator_type': 'none'}, 'geo': None, 'coordinates': None, 'place': None, 'contributors': None, 'is_quote_status': False, 'retweet_count': 48, 'favorite_count': 94, 'favorited': False, 'retweeted': False, 'possibly_sensitive': False, 'lang': 'en'}, {'created_at': 'Wed May 22 01:36:19 +0000 2019', 'id': 1131010872271413249, 'id_str': '1131010872271413249', 'text': 'Real Keto doesn’t have to be a sacrifice. It just takes discipline. Stick with it. Stay focused. You WILL see resul… https://t.co/ykOf8dCEg4', 'truncated': True, 'entities': {'hashtags': [], 'symbols': [], 'user_mentions': [], 'urls': [{'url': 'https://t.co/ykOf8dCEg4', 'expanded_url': 'https://twitter.com/i/web/status/1131010872271413249', 'display_url': 'twitter.com/i/web/status/1…', 'indices': [117, 140]}]}, 'metadata': {'result_type': 'popular', 'iso_language_code': 'en'}, 'source': '<a href=\"http://twitter.com/download/iphone\" rel=\"nofollow\">Twitter for iPhone</a>', 'in_reply_to_status_id': None, 'in_reply_to_status_id_str': None, 'in_reply_to_user_id': None, 'in_reply_to_user_id_str': None, 'in_reply_to_screen_name': None, 'user': {'id': 34082620, 'id_str': '34082620', 'name': 'Jesse Kelly', 'screen_name': 'JesseKellyDC', 'location': 'Houston, TX', 'description': 'Host of The Jesse Kelly Show on 950 KPRC in Houston. Co-host of @AVoiceNews . Senior Contributor to @FDRLST. Greek god.', 'url': 'https://t.co/2VequKyzsa', 'entities': {'url': {'urls': [{'url': 'https://t.co/2VequKyzsa', 'expanded_url': 'https://iamjessekelly.com/', 'display_url': 'iamjessekelly.com', 'indices': [0, 23]}]}, 'description': {'urls': []}}, 'protected': False, 'followers_count': 137523, 'friends_count': 842, 'listed_count': 1515, 'created_at': 'Tue Apr 21 23:08:32 +0000 2009', 'favourites_count': 83957, 'utc_offset': None, 'time_zone': None, 'geo_enabled': False, 'verified': True, 'statuses_count': 1088, 'lang': 'en', 'contributors_enabled': False, 'is_translator': False, 'is_translation_enabled': False, 'profile_background_color': '16181D', 'profile_background_image_url': 'http://abs.twimg.com/images/themes/theme9/bg.gif', 'profile_background_image_url_https': 'https://abs.twimg.com/images/themes/theme9/bg.gif', 'profile_background_tile': False, 'profile_image_url': 'http://pbs.twimg.com/profile_images/910615387351392256/9KVIGWgx_normal.jpg', 'profile_image_url_https': 'https://pbs.twimg.com/profile_images/910615387351392256/9KVIGWgx_normal.jpg', 'profile_banner_url': 'https://pbs.twimg.com/profile_banners/34082620/1454013024', 'profile_link_color': '4137F1', 'profile_sidebar_border_color': '181A1E', 'profile_sidebar_fill_color': 'ACAAB6', 'profile_text_color': '100E0E', 'profile_use_background_image': True, 'has_extended_profile': False, 'default_profile': False, 'default_profile_image': False, 'following': None, 'follow_request_sent': None, 'notifications': None, 'translator_type': 'none'}, 'geo': None, 'coordinates': None, 'place': None, 'contributors': None, 'is_quote_status': False, 'retweet_count': 20, 'favorite_count': 273, 'favorited': False, 'retweeted': False, 'possibly_sensitive': False, 'lang': 'en'}, {'created_at': 'Fri May 24 00:40:22 +0000 2019', 'id': 1131721565882597376, 'id_str': '1131721565882597376', 'text': 'Vinny Keto People EAT Salt Bro??!  #DoubleShotAtlove', 'truncated': False, 'entities': {'hashtags': [{'text': 'DoubleShotAtlove', 'indices': [35, 52]}], 'symbols': [], 'user_mentions': [], 'urls': []}, 'metadata': {'result_type': 'popular', 'iso_language_code': 'en'}, 'source': '<a href=\"http://twitter.com/download/iphone\" rel=\"nofollow\">Twitter for iPhone</a>', 'in_reply_to_status_id': None, 'in_reply_to_status_id_str': None, 'in_reply_to_user_id': None, 'in_reply_to_user_id_str': None, 'in_reply_to_screen_name': None, 'user': {'id': 94360081, 'id_str': '94360081', 'name': 'DJ Pauly D', 'screen_name': 'DJPaulyD', 'location': 'Las Vegas, Nevada', 'description': 'To Book DJ Pauly D Email yoni@dgimanagement.com NEW SINGLE “Silver & Gold” 🥈🥇Out Now!!!!! 🔥', 'url': 'https://t.co/FlJOUJbiRA', 'entities': {'url': {'urls': [{'url': 'https://t.co/FlJOUJbiRA', 'expanded_url': 'http://www.DJPAULYDSHOP.com', 'display_url': 'DJPAULYDSHOP.com', 'indices': [0, 23]}]}, 'description': {'urls': []}}, 'protected': False, 'followers_count': 3959369, 'friends_count': 37258, 'listed_count': 11817, 'created_at': 'Thu Dec 03 16:17:58 +0000 2009', 'favourites_count': 12461, 'utc_offset': None, 'time_zone': None, 'geo_enabled': False, 'verified': True, 'statuses_count': 24783, 'lang': 'en', 'contributors_enabled': False, 'is_translator': False, 'is_translation_enabled': True, 'profile_background_color': '000000', 'profile_background_image_url': 'http://abs.twimg.com/images/themes/theme9/bg.gif', 'profile_background_image_url_https': 'https://abs.twimg.com/images/themes/theme9/bg.gif', 'profile_background_tile': False, 'profile_image_url': 'http://pbs.twimg.com/profile_images/976860566550695936/SIHvYilD_normal.jpg', 'profile_image_url_https': 'https://pbs.twimg.com/profile_images/976860566550695936/SIHvYilD_normal.jpg', 'profile_banner_url': 'https://pbs.twimg.com/profile_banners/94360081/1398456933', 'profile_link_color': '751A64', 'profile_sidebar_border_color': '631953', 'profile_sidebar_fill_color': 'BFBFBF', 'profile_text_color': '3B372B', 'profile_use_background_image': True, 'has_extended_profile': False, 'default_profile': False, 'default_profile_image': False, 'following': None, 'follow_request_sent': None, 'notifications': None, 'translator_type': 'none'}, 'geo': None, 'coordinates': None, 'place': None, 'contributors': None, 'is_quote_status': False, 'retweet_count': 16, 'favorite_count': 143, 'favorited': False, 'retweeted': False, 'lang': 'en'}, {'created_at': 'Fri May 24 14:36:25 +0000 2019', 'id': 1131931965979004930, 'id_str': '1131931965979004930', 'text': 'Real anti-Keto item being sold at the first game of the Stanley Cup Final in Boston on Monday: Penne Alfredo with c… https://t.co/7VPze3HTQf', 'truncated': True, 'entities': {'hashtags': [], 'symbols': [], 'user_mentions': [], 'urls': [{'url': 'https://t.co/7VPze3HTQf', 'expanded_url': 'https://twitter.com/i/web/status/1131931965979004930', 'display_url': 'twitter.com/i/web/status/1…', 'indices': [117, 140]}]}, 'metadata': {'result_type': 'popular', 'iso_language_code': 'en'}, 'source': '<a href=\"http://twitter.com/download/iphone\" rel=\"nofollow\">Twitter for iPhone</a>', 'in_reply_to_status_id': None, 'in_reply_to_status_id_str': None, 'in_reply_to_user_id': None, 'in_reply_to_user_id_str': None, 'in_reply_to_screen_name': None, 'user': {'id': 24277551, 'id_str': '24277551', 'name': 'Darren Rovell', 'screen_name': 'darrenrovell', 'location': 'NYC ', 'description': 'Business of Sports Betting, Sports Business Reporter & Senior Executive Producer for @ActionNetworkHQ Instagram: @darrenrovell.', 'url': None, 'entities': {'description': {'urls': []}}, 'protected': False, 'followers_count': 2048262, 'friends_count': 2778, 'listed_count': 12706, 'created_at': 'Fri Mar 13 23:11:21 +0000 2009', 'favourites_count': 2856, 'utc_offset': None, 'time_zone': None, 'geo_enabled': True, 'verified': True, 'statuses_count': 151322, 'lang': 'en', 'contributors_enabled': False, 'is_translator': False, 'is_translation_enabled': True, 'profile_background_color': 'FF0000', 'profile_background_image_url': 'http://abs.twimg.com/images/themes/theme1/bg.png', 'profile_background_image_url_https': 'https://abs.twimg.com/images/themes/theme1/bg.png', 'profile_background_tile': True, 'profile_image_url': 'http://pbs.twimg.com/profile_images/1123333191245475840/QBsmecP1_normal.jpg', 'profile_image_url_https': 'https://pbs.twimg.com/profile_images/1123333191245475840/QBsmecP1_normal.jpg', 'profile_banner_url': 'https://pbs.twimg.com/profile_banners/24277551/1459256465', 'profile_link_color': '161A18', 'profile_sidebar_border_color': 'FFFFFF', 'profile_sidebar_fill_color': 'E6EAEF', 'profile_text_color': '333333', 'profile_use_background_image': True, 'has_extended_profile': False, 'default_profile': False, 'default_profile_image': False, 'following': None, 'follow_request_sent': None, 'notifications': None, 'translator_type': 'none'}, 'geo': None, 'coordinates': None, 'place': None, 'contributors': None, 'is_quote_status': False, 'retweet_count': 25, 'favorite_count': 237, 'favorited': False, 'retweeted': False, 'possibly_sensitive': False, 'lang': 'en'}]\n"
     ]
    }
   ],
   "source": [
    "import json \n",
    "search_headers = {\n",
    "    'Authorization': 'Bearer {}'.format(access_token)    \n",
    "}\n",
    "search_params = {\n",
    "    'q': ['keto', 'whole30','glutenfree','mediterraneandiet','lowfat','celeryjuice'],\n",
    "    'result_type': 'popular',\n",
    "    'count': 100\n",
    "}\n",
    "# Create the URL\n",
    "search_url = '{}1.1/search/tweets.json'.format(base_url)\n",
    "# Execute the get request\n",
    "search_resp = requests.get(search_url, headers=search_headers, params=search_params)\n",
    "# Get the data from the request\n",
    "Data = json.loads( search_resp.content )\n",
    "# Print out the data!\n",
    "print(Data['statuses'])"
   ]
  },
  {
   "cell_type": "code",
   "execution_count": 35,
   "metadata": {},
   "outputs": [
    {
     "data": {
      "text/plain": [
       "{'/search/tweets': {'limit': 450, 'remaining': 448, 'reset': 1559147247}}"
      ]
     },
     "execution_count": 35,
     "metadata": {},
     "output_type": "execute_result"
    }
   ],
   "source": [
    "url = 'https://api.twitter.com/1.1/application/rate_limit_status.json'\n",
    "#Execute the request\n",
    "search_resp = requests.get(url, headers=search_headers)\n",
    "#See the remaining rate limit\n",
    "json.loads(search_resp.content)['resources']['search']"
   ]
  },
  {
   "cell_type": "code",
   "execution_count": 36,
   "metadata": {},
   "outputs": [],
   "source": [
    "popular = Data['statuses']"
   ]
  },
  {
   "cell_type": "code",
   "execution_count": 37,
   "metadata": {},
   "outputs": [],
   "source": [
    "import pandas as pd\n",
    "df = pd.DataFrame(popular)"
   ]
  },
  {
   "cell_type": "code",
   "execution_count": 38,
   "metadata": {
    "scrolled": true
   },
   "outputs": [
    {
     "name": "stdout",
     "output_type": "stream",
     "text": [
      "<class 'pandas.core.frame.DataFrame'>\n",
      "RangeIndex: 15 entries, 0 to 14\n",
      "Data columns (total 26 columns):\n",
      "contributors                 0 non-null object\n",
      "coordinates                  0 non-null object\n",
      "created_at                   15 non-null object\n",
      "entities                     15 non-null object\n",
      "extended_entities            2 non-null object\n",
      "favorite_count               15 non-null int64\n",
      "favorited                    15 non-null bool\n",
      "geo                          0 non-null object\n",
      "id                           15 non-null int64\n",
      "id_str                       15 non-null object\n",
      "in_reply_to_screen_name      0 non-null object\n",
      "in_reply_to_status_id        0 non-null object\n",
      "in_reply_to_status_id_str    0 non-null object\n",
      "in_reply_to_user_id          0 non-null object\n",
      "in_reply_to_user_id_str      0 non-null object\n",
      "is_quote_status              15 non-null bool\n",
      "lang                         15 non-null object\n",
      "metadata                     15 non-null object\n",
      "place                        1 non-null object\n",
      "possibly_sensitive           10 non-null object\n",
      "retweet_count                15 non-null int64\n",
      "retweeted                    15 non-null bool\n",
      "source                       15 non-null object\n",
      "text                         15 non-null object\n",
      "truncated                    15 non-null bool\n",
      "user                         15 non-null object\n",
      "dtypes: bool(4), int64(3), object(19)\n",
      "memory usage: 2.7+ KB\n"
     ]
    }
   ],
   "source": [
    "df.info()"
   ]
  },
  {
   "cell_type": "code",
   "execution_count": 52,
   "metadata": {},
   "outputs": [
    {
     "data": {
      "text/plain": [
       "(0     196\n",
       " 1     105\n",
       " 2      43\n",
       " 3       6\n",
       " 4     298\n",
       " 5       5\n",
       " 6      86\n",
       " 7     104\n",
       " 8      37\n",
       " 9      41\n",
       " 10     57\n",
       " 11     48\n",
       " 12     20\n",
       " 13     16\n",
       " 14     25\n",
       " Name: retweet_count, dtype: int64, 0     3787\n",
       " 1      364\n",
       " 2     1093\n",
       " 3       15\n",
       " 4     1228\n",
       " 5        9\n",
       " 6       72\n",
       " 7       73\n",
       " 8      218\n",
       " 9      278\n",
       " 10     194\n",
       " 11      94\n",
       " 12     273\n",
       " 13     143\n",
       " 14     237\n",
       " Name: favorite_count, dtype: int64)"
      ]
     },
     "execution_count": 52,
     "metadata": {},
     "output_type": "execute_result"
    }
   ],
   "source": [
    "df['retweet_count'], df['favorite_count']"
   ]
  },
  {
   "cell_type": "code",
   "execution_count": 40,
   "metadata": {},
   "outputs": [
    {
     "data": {
      "text/plain": [
       "0                                                  None\n",
       "1                                                  None\n",
       "2                                                  None\n",
       "3                                                  None\n",
       "4                                                  None\n",
       "5                                                  None\n",
       "6                                                  None\n",
       "7                                                  None\n",
       "8                                                  None\n",
       "9     {'id': '36f6e625182fae8b', 'url': 'https://api...\n",
       "10                                                 None\n",
       "11                                                 None\n",
       "12                                                 None\n",
       "13                                                 None\n",
       "14                                                 None\n",
       "Name: place, dtype: object"
      ]
     },
     "execution_count": 40,
     "metadata": {},
     "output_type": "execute_result"
    }
   ],
   "source": [
    "df['place']"
   ]
  },
  {
   "cell_type": "code",
   "execution_count": 50,
   "metadata": {},
   "outputs": [
    {
     "data": {
      "text/html": [
       "<div>\n",
       "<style scoped>\n",
       "    .dataframe tbody tr th:only-of-type {\n",
       "        vertical-align: middle;\n",
       "    }\n",
       "\n",
       "    .dataframe tbody tr th {\n",
       "        vertical-align: top;\n",
       "    }\n",
       "\n",
       "    .dataframe thead th {\n",
       "        text-align: right;\n",
       "    }\n",
       "</style>\n",
       "<table border=\"1\" class=\"dataframe\">\n",
       "  <thead>\n",
       "    <tr style=\"text-align: right;\">\n",
       "      <th></th>\n",
       "      <th>attributes</th>\n",
       "      <th>bounding_box</th>\n",
       "      <th>contained_within</th>\n",
       "      <th>country</th>\n",
       "      <th>country_code</th>\n",
       "      <th>full_name</th>\n",
       "      <th>id</th>\n",
       "      <th>name</th>\n",
       "      <th>place_type</th>\n",
       "      <th>url</th>\n",
       "    </tr>\n",
       "  </thead>\n",
       "  <tbody>\n",
       "    <tr>\n",
       "      <th>0</th>\n",
       "      <td>{}</td>\n",
       "      <td>{'type': 'Polygon', 'coordinates': [[[-82.5249...</td>\n",
       "      <td>[]</td>\n",
       "      <td>United States</td>\n",
       "      <td>US</td>\n",
       "      <td>Land O' Lakes, FL</td>\n",
       "      <td>36f6e625182fae8b</td>\n",
       "      <td>Land O' Lakes</td>\n",
       "      <td>city</td>\n",
       "      <td>https://api.twitter.com/1.1/geo/id/36f6e625182...</td>\n",
       "    </tr>\n",
       "  </tbody>\n",
       "</table>\n",
       "</div>"
      ],
      "text/plain": [
       "  attributes                                       bounding_box  \\\n",
       "0         {}  {'type': 'Polygon', 'coordinates': [[[-82.5249...   \n",
       "\n",
       "  contained_within        country country_code          full_name  \\\n",
       "0               []  United States           US  Land O' Lakes, FL   \n",
       "\n",
       "                 id           name place_type  \\\n",
       "0  36f6e625182fae8b  Land O' Lakes       city   \n",
       "\n",
       "                                                 url  \n",
       "0  https://api.twitter.com/1.1/geo/id/36f6e625182...  "
      ]
     },
     "execution_count": 50,
     "metadata": {},
     "output_type": "execute_result"
    }
   ],
   "source": [
    "import numpy as np\n",
    "pd_users = df[\"place\"]\n",
    "np_users = np.array(pd_users)\n",
    "pd_users_2 = list(np_users)\n",
    "pd_users_2 =[i for i in pd_users_2 if i] \n",
    "pd_users_3 = pd.DataFrame(pd_users_2)\n",
    "pd_users_3\n"
   ]
  },
  {
   "cell_type": "code",
   "execution_count": 51,
   "metadata": {},
   "outputs": [
    {
     "data": {
      "text/plain": [
       "0     None\n",
       "1     None\n",
       "2     None\n",
       "3     None\n",
       "4     None\n",
       "5     None\n",
       "6     None\n",
       "7     None\n",
       "8     None\n",
       "9     None\n",
       "10    None\n",
       "11    None\n",
       "12    None\n",
       "13    None\n",
       "14    None\n",
       "Name: geo, dtype: object"
      ]
     },
     "execution_count": 51,
     "metadata": {},
     "output_type": "execute_result"
    }
   ],
   "source": [
    "df['geo']"
   ]
  },
  {
   "cell_type": "code",
   "execution_count": null,
   "metadata": {},
   "outputs": [],
   "source": []
  }
 ],
 "metadata": {
  "kernelspec": {
   "display_name": "Python 3",
   "language": "python",
   "name": "python3"
  },
  "language_info": {
   "codemirror_mode": {
    "name": "ipython",
    "version": 3
   },
   "file_extension": ".py",
   "mimetype": "text/x-python",
   "name": "python",
   "nbconvert_exporter": "python",
   "pygments_lexer": "ipython3",
   "version": "3.7.3"
  }
 },
 "nbformat": 4,
 "nbformat_minor": 2
}
