{
 "cells": [
  {
   "cell_type": "code",
   "execution_count": 72,
   "metadata": {},
   "outputs": [],
   "source": []
  },
  {
   "cell_type": "code",
   "execution_count": 73,
   "metadata": {},
   "outputs": [],
   "source": [
    "import base64\n",
    "#Define your keys from the developer portal\n",
    "client_key = CONSUMER_KEY\n",
    "client_secret =  CONSUMER_SECRET\n",
    "#Reformat the keys and encode them\n",
    "key_secret = '{}:{}'.format(client_key, client_secret).encode('ascii')\n",
    "\n",
    "# Transform from bytes to bytes that can be printed\n",
    "b64_encoded_key = base64.b64encode(key_secret)\n",
    "\n",
    "#Transform from bytes back into Unicode\n",
    "b64_encoded_key = b64_encoded_key.decode('ascii')\n"
   ]
  },
  {
   "cell_type": "code",
   "execution_count": 74,
   "metadata": {},
   "outputs": [],
   "source": [
    "import requests\n",
    "base_url = 'https://api.twitter.com/'\n",
    "auth_url = '{}oauth2/token'.format(base_url)\n",
    "auth_headers = {\n",
    "    'Authorization': 'Basic {}'.format(b64_encoded_key),\n",
    "    'Content-Type': 'application/x-www-form-urlencoded;charset=UTF-8'\n",
    "}\n",
    "auth_data = {\n",
    "    'grant_type': 'client_credentials'\n",
    "}\n",
    "auth_resp = requests.post(auth_url, headers=auth_headers, data=auth_data)"
   ]
  },
  {
   "cell_type": "code",
   "execution_count": 75,
   "metadata": {},
   "outputs": [
    {
     "name": "stdout",
     "output_type": "stream",
     "text": [
      "200\n"
     ]
    }
   ],
   "source": [
    "print(auth_resp.status_code)"
   ]
  },
  {
   "cell_type": "code",
   "execution_count": 76,
   "metadata": {},
   "outputs": [],
   "source": [
    "access_token = auth_resp.json()['access_token']"
   ]
  },
  {
   "cell_type": "code",
   "execution_count": 28,
   "metadata": {},
   "outputs": [],
   "source": [
    "search_headers = {\n",
    "    'Authorization': 'Bearer {}'.format(access_token)    \n",
    "}\n",
    "search_params = {\n",
    "    'q': 'NASA',\n",
    "    'result_type': 'recent',\n",
    "    'count': 2\n",
    "}\n",
    "search_url = '{}1.1/search/tweets.json'.format(base_url)\n",
    "search_resp = requests.get(search_url, headers=search_headers, params=search_params)"
   ]
  },
  {
   "cell_type": "code",
   "execution_count": 94,
   "metadata": {},
   "outputs": [
    {
     "ename": "SyntaxError",
     "evalue": "invalid syntax (<ipython-input-94-ffcafff1b230>, line 6)",
     "output_type": "error",
     "traceback": [
      "\u001b[0;36m  File \u001b[0;32m\"<ipython-input-94-ffcafff1b230>\"\u001b[0;36m, line \u001b[0;32m6\u001b[0m\n\u001b[0;31m    'q': 'keto', 'whole30',\u001b[0m\n\u001b[0m                          ^\u001b[0m\n\u001b[0;31mSyntaxError\u001b[0m\u001b[0;31m:\u001b[0m invalid syntax\n"
     ]
    }
   ],
   "source": [
    "import json \n",
    "search_headers = {\n",
    "    'Authorization': 'Bearer {}'.format(access_token)    \n",
    "}\n",
    "search_params = {\n",
    "    'q': 'keto', 'whole30',\n",
    "    'result_type': 'popular',\n",
    "    'count': 10\n",
    "}\n",
    "# Create the URL\n",
    "search_url = '{}1.1/search/tweets.json'.format(base_url)\n",
    "# Execute the get request\n",
    "search_resp = requests.get(search_url, headers=search_headers, params=search_params)\n",
    "# Get the data from the request\n",
    "Data = json.loads( search_resp.content )\n",
    "# Print out the data!\n",
    "print(Data['statuses'])"
   ]
  },
  {
   "cell_type": "code",
   "execution_count": 51,
   "metadata": {},
   "outputs": [
    {
     "data": {
      "text/plain": [
       "{'/search/tweets': {'limit': 450, 'remaining': 449, 'reset': 1559082103}}"
      ]
     },
     "execution_count": 51,
     "metadata": {},
     "output_type": "execute_result"
    }
   ],
   "source": [
    "url = 'https://api.twitter.com/1.1/application/rate_limit_status.json'\n",
    "#Execute the request\n",
    "search_resp = requests.get(url, headers=search_headers)\n",
    "#See the remaining rate limit\n",
    "json.loads(search_resp.content)['resources']['search']"
   ]
  },
  {
   "cell_type": "code",
   "execution_count": 82,
   "metadata": {},
   "outputs": [],
   "source": [
    "popular = Data['statuses']"
   ]
  },
  {
   "cell_type": "code",
   "execution_count": 84,
   "metadata": {},
   "outputs": [],
   "source": [
    "df = pd.DataFrame(popular)"
   ]
  },
  {
   "cell_type": "code",
   "execution_count": 85,
   "metadata": {
    "scrolled": true
   },
   "outputs": [
    {
     "name": "stdout",
     "output_type": "stream",
     "text": [
      "<class 'pandas.core.frame.DataFrame'>\n",
      "RangeIndex: 10 entries, 0 to 9\n",
      "Data columns (total 27 columns):\n",
      "contributors                 0 non-null object\n",
      "coordinates                  0 non-null object\n",
      "created_at                   10 non-null object\n",
      "entities                     10 non-null object\n",
      "extended_entities            1 non-null object\n",
      "favorite_count               10 non-null int64\n",
      "favorited                    10 non-null bool\n",
      "geo                          0 non-null object\n",
      "id                           10 non-null int64\n",
      "id_str                       10 non-null object\n",
      "in_reply_to_screen_name      1 non-null object\n",
      "in_reply_to_status_id        1 non-null float64\n",
      "in_reply_to_status_id_str    1 non-null object\n",
      "in_reply_to_user_id          1 non-null float64\n",
      "in_reply_to_user_id_str      1 non-null object\n",
      "is_quote_status              10 non-null bool\n",
      "lang                         10 non-null object\n",
      "metadata                     10 non-null object\n",
      "place                        0 non-null object\n",
      "possibly_sensitive           5 non-null object\n",
      "retweet_count                10 non-null int64\n",
      "retweeted                    10 non-null bool\n",
      "retweeted_status             4 non-null object\n",
      "source                       10 non-null object\n",
      "text                         10 non-null object\n",
      "truncated                    10 non-null bool\n",
      "user                         10 non-null object\n",
      "dtypes: bool(4), float64(2), int64(3), object(18)\n",
      "memory usage: 1.9+ KB\n"
     ]
    }
   ],
   "source": [
    "df.info()"
   ]
  },
  {
   "cell_type": "code",
   "execution_count": 87,
   "metadata": {},
   "outputs": [
    {
     "data": {
      "text/plain": [
       "0     98\n",
       "1      0\n",
       "2      4\n",
       "3      0\n",
       "4      0\n",
       "5      1\n",
       "6    296\n",
       "7      0\n",
       "8      0\n",
       "9      0\n",
       "Name: retweet_count, dtype: int64"
      ]
     },
     "execution_count": 87,
     "metadata": {},
     "output_type": "execute_result"
    }
   ],
   "source": [
    "df['retweet_count']"
   ]
  },
  {
   "cell_type": "code",
   "execution_count": null,
   "metadata": {},
   "outputs": [],
   "source": []
  }
 ],
 "metadata": {
  "kernelspec": {
   "display_name": "Python 3",
   "language": "python",
   "name": "python3"
  },
  "language_info": {
   "codemirror_mode": {
    "name": "ipython",
    "version": 3
   },
   "file_extension": ".py",
   "mimetype": "text/x-python",
   "name": "python",
   "nbconvert_exporter": "python",
   "pygments_lexer": "ipython3",
   "version": "3.7.3"
  }
 },
 "nbformat": 4,
 "nbformat_minor": 2
}
